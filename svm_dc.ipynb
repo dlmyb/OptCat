{
 "nbformat": 4,
 "nbformat_minor": 2,
 "metadata": {
  "language_info": {
   "name": "python",
   "codemirror_mode": {
    "name": "ipython",
    "version": 3
   },
   "version": "3.6.9-final"
  },
  "orig_nbformat": 2,
  "file_extension": ".py",
  "mimetype": "text/x-python",
  "name": "python",
  "npconvert_exporter": "python",
  "pygments_lexer": "ipython3",
  "version": 3,
  "kernelspec": {
   "name": "python36964bit98ad8df653ce438eb098411acbb751e9",
   "display_name": "Python 3.6.9 64-bit"
  }
 },
 "cells": [
  {
   "cell_type": "code",
   "execution_count": 1,
   "metadata": {},
   "outputs": [],
   "source": [
    "import cvxpy as cp\n",
    "import numpy as np\n",
    "import matplotlib.pyplot as plt\n",
    "%matplotlib inline"
   ]
  },
  {
   "cell_type": "code",
   "execution_count": 2,
   "metadata": {},
   "outputs": [],
   "source": [
    "size, M, batch = 8, 2, 20\n",
    "\n",
    "np.random.seed(0)\n",
    "N = batch * size\n",
    "X1 = np.random.normal(scale=[1, 0.8], size=[N, M]) + np.array([0, 1.5])\n",
    "X2 = np.random.normal(scale=[1, 0.5], size=[N, M]) + np.array([1.5, 0])\n",
    "\n",
    "AA = np.vstack([\n",
    "    -1 * np.hstack([X1, np.ones([N, 1])]),\n",
    "    np.hstack([X2, np.ones([N, 1])])\n",
    "])\n",
    "\n",
    "random_indexes = np.random.permutation(N).reshape([size, -1])\n",
    "random_indexes = np.hstack([random_indexes, random_indexes + N])\n",
    "\n",
    "AA = np.stack([AA[random_indexes[idx], :] for idx in range(size)])"
   ]
  },
  {
   "cell_type": "code",
   "execution_count": 3,
   "metadata": {},
   "outputs": [],
   "source": [
    "def w_feasible(W):\n",
    "    W = np.array(W)\n",
    "    if W.ndim != 2 or (W.ndim == 2 and W.shape[0] != W.shape[1]):\n",
    "        return False\n",
    "    m, _ = W.shape\n",
    "    return np.all(W == W.T) and \\ \n",
    "        np.all(np.sum(W, axis=1) == np.ones(m)) == True and \\\n",
    "        np.all(np.sum(W, axis=0) == np.ones(m)) == True # symmetric and doubly stochastic matrix\n",
    "\n",
    "\n",
    "def ring_matrix(n):\n",
    "    w = np.eye(n) * 0.5\n",
    "    for i in range(n):\n",
    "        w[i, (i+1)%n] = 0.25\n",
    "        w[i, (i-1)%n] = 0.25\n",
    "    return w"
   ]
  },
  {
   "cell_type": "code",
   "execution_count": 4,
   "metadata": {},
   "outputs": [
    {
     "data": {
      "text/plain": "True"
     },
     "execution_count": 4,
     "metadata": {},
     "output_type": "execute_result"
    }
   ],
   "source": [
    "W = ring_matrix(size)\n",
    "w_feasible(W)"
   ]
  },
  {
   "cell_type": "code",
   "execution_count": 5,
   "metadata": {},
   "outputs": [],
   "source": [
    "class GCon():\n",
    "    def __init__(self, shape, W):\n",
    "        self.x_last = np.zeros(shape)\n",
    "        self.s_last = np.zeros(shape)\n",
    "        self.W = W # TODO: check w feasiblity\n",
    "        self.W2 = W.dot(W - np.eye(W.shape[0]))\n",
    "    \n",
    "    def __call__(self, x):\n",
    "        s = self.W.dot(self.s_last) + self.W2.dot(self.x_last)\n",
    "        self.s_last, self.x_last = s, x\n",
    "        return s + W.dot(x)\n"
   ]
  },
  {
   "cell_type": "code",
   "execution_count": 6,
   "metadata": {},
   "outputs": [
    {
     "name": "stdout",
     "output_type": "stream",
     "text": "0 [[-0.66173666  1.60539364 -0.45211516]\n [-0.51528489  1.58112613 -0.67117216]\n [-0.50227951  1.38136738 -0.57590417]\n [-0.64498382  1.33692201 -0.44861301]\n [-0.77061423  1.48912667 -0.51532829]\n [-0.71575697  1.6040917  -0.6768552 ]\n [-0.60038342  1.48328885 -0.6978469 ]\n [-0.65898815  1.4370367  -0.44455414]]\n100 [[-0.6897898   1.88286263 -0.73249575]\n [-0.68945605  1.88281248 -0.73283814]\n [-0.68891869  1.88261544 -0.73333932]\n [-0.68849172  1.88238504 -0.73370051]\n [-0.68843049  1.88225547 -0.73371852]\n [-0.68877168  1.88230404 -0.73338769]\n [-0.68931117  1.88250367 -0.73289431]\n [-0.6897307   1.88273564 -0.73252156]]\n200 [[-0.67460616  1.87496501 -0.68666987]\n [-0.67474162  1.87470237 -0.68615602]\n [-0.67419984  1.87466565 -0.68564865]\n [-0.67327116  1.87489828 -0.68548043]\n [-0.67252647  1.87524807 -0.68573127]\n [-0.67242438  1.87549043 -0.68621919]\n [-0.67301306  1.87549402 -0.68668538]\n [-0.67390837  1.87528167 -0.68687952]]\n300 [[-0.67489295  1.87646751 -0.68626354]\n [-0.67521747  1.8765804  -0.68632213]\n [-0.67527502  1.87657549 -0.68636021]\n [-0.67506233  1.87645022 -0.68634109]\n [-0.67471071  1.87628376 -0.6862837 ]\n [-0.67439754  1.87617939 -0.68623352]\n [-0.67429658  1.87619218 -0.68621626]\n [-0.67449791  1.87630894 -0.68622698]]\n400 [[-0.67543945  1.89280919 -0.6989076 ]\n [-0.67537601  1.89273663 -0.69901603]\n [-0.67535383  1.89273691 -0.6990735 ]\n [-0.67538193  1.89280524 -0.69905209]\n [-0.67544077  1.89289806 -0.69896909]\n [-0.67549953  1.8929654  -0.69886794]\n [-0.675527    1.89297133 -0.6988029 ]\n [-0.67550358  1.89290822 -0.69881703]]\n500 [[-0.67539287  1.89356835 -0.69954157]\n [-0.67539442  1.89357012 -0.69953916]\n [-0.67539539  1.89356647 -0.6995345 ]\n [-0.67539525  1.89355985 -0.69953046]\n [-0.67539411  1.8935544  -0.69952949]\n [-0.67539263  1.89355303 -0.69953204]\n [-0.67539162  1.89355632 -0.69953656]\n [-0.6753917   1.89356254 -0.69954046]]\n"
    }
   ],
   "source": [
    "MAX_ITER = 500 + 1\n",
    "ABSTOL = 1e-4\n",
    "RELTOL = 1e-2\n",
    "rho, C = 1, 1\n",
    "\n",
    "z, u, x = np.zeros([size, M+1]), np.zeros([size, M+1]), np.zeros([size, M+1])\n",
    "x_con = GCon(x.shape, W)\n",
    "u_con = GCon(x.shape, W)\n",
    "\n",
    "STOP_FLAG, i = False, 0\n",
    "\n",
    "while True:\n",
    "    if STOP_FLAG or i >= MAX_ITER:\n",
    "        break\n",
    "    for wk in range(size):\n",
    "        A = AA[wk]\n",
    "        x_var = cp.Variable(M+1)\n",
    "        cp.Problem(\n",
    "            cp.Minimize(cp.sum(cp.pos(cp.matmul(A, x_var)+1)) + rho/2 * cp.sum_squares(x_var-z[wk]+u[wk]))\n",
    "        ).solve(verbose=False, solver=cp.CVXOPT)\n",
    "        x[wk] = x_var.value\n",
    "\n",
    "    x_ave = x_con(x)\n",
    "    z = rho/(1/C + size*rho) * size * (x_ave + u_con(u))\n",
    "    u += x - z\n",
    "    \n",
    "    if i % 100 == 0:\n",
    "        print(i, x_ave)\n",
    "    \n",
    "    i += 1"
   ]
  },
  {
   "cell_type": "code",
   "execution_count": 9,
   "metadata": {},
   "outputs": [
    {
     "data": {
      "text/plain": "array([[0.5 , 0.25, 0.  , 0.  , 0.  , 0.  , 0.  , 0.25],\n       [0.25, 0.5 , 0.25, 0.  , 0.  , 0.  , 0.  , 0.  ],\n       [0.  , 0.25, 0.5 , 0.25, 0.  , 0.  , 0.  , 0.  ],\n       [0.  , 0.  , 0.25, 0.5 , 0.25, 0.  , 0.  , 0.  ],\n       [0.  , 0.  , 0.  , 0.25, 0.5 , 0.25, 0.  , 0.  ],\n       [0.  , 0.  , 0.  , 0.  , 0.25, 0.5 , 0.25, 0.  ],\n       [0.  , 0.  , 0.  , 0.  , 0.  , 0.25, 0.5 , 0.25],\n       [0.25, 0.  , 0.  , 0.  , 0.  , 0.  , 0.25, 0.5 ]])"
     },
     "execution_count": 9,
     "metadata": {},
     "output_type": "execute_result"
    }
   ],
   "source": [
    "ring_matrix(8)"
   ]
  },
  {
   "cell_type": "code",
   "execution_count": null,
   "metadata": {},
   "outputs": [],
   "source": []
  }
 ]
}